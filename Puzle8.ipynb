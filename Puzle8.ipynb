{
 "cells": [
  {
   "cell_type": "code",
   "execution_count": 52,
   "metadata": {},
   "outputs": [],
   "source": [
    "from collections import deque"
   ]
  },
  {
   "cell_type": "code",
   "execution_count": 53,
   "metadata": {},
   "outputs": [],
   "source": [
    "class Nodo:\n",
    "    def __init__(self,estado_actual,padre,movimiento,nroPiezas,prof):\n",
    "        self.estado=estado_actual\n",
    "        self.padre=padre\n",
    "        self.movimiento=movimiento\n",
    "        self.nroPiezasOk=nroPiezas\n",
    "        self.profundidad=prof\n",
    "    def Imprimir(self):\n",
    "        r=0\n",
    "        for pieza in self.estado:\n",
    "            if pieza==0:\n",
    "                print(\" \",end=\" \")\n",
    "            else:\n",
    "                print(pieza,end=\" \")\n",
    "            r+=1\n",
    "            if r==3:\n",
    "                print()\n",
    "                r=0\n",
    "            \n",
    "    def Mover(self,movimiento):\n",
    "        estado=list(self.estado)\n",
    "        indice_cero=estado.index(0)\n",
    "        if movimiento==\"arriba\":\n",
    "            if (indice_cero not in [0,1,2]):\n",
    "                tmp=estado[indice_cero-3]\n",
    "                estado[indice_cero-3]=estado[indice_cero] \n",
    "                estado[indice_cero]=tmp\n",
    "                return estado\n",
    "        elif movimiento==\"abajo\":\n",
    "            if (indice_cero not in [6,7,8]):\n",
    "                tmp=estado[indice_cero+3]\n",
    "                estado[indice_cero+3]=estado[indice_cero] \n",
    "                estado[indice_cero]=tmp\n",
    "                return estado\n",
    "        elif movimiento==\"derecha\":\n",
    "            if (indice_cero not in [2,5,8]):\n",
    "                tmp=estado[indice_cero+1]\n",
    "                estado[indice_cero+1]=estado[indice_cero] \n",
    "                estado[indice_cero]=tmp\n",
    "                return estado\n",
    "        elif movimiento==\"izquierda\":\n",
    "            if (indice_cero not in [0,3,6]):\n",
    "                tmp=estado[indice_cero-1]\n",
    "                estado[indice_cero-1]=estado[indice_cero] \n",
    "                estado[indice_cero]=tmp\n",
    "                return estado\n",
    "        else:\n",
    "            return None\n",
    "    def nroPiezasCorrectas(self,estado):\n",
    "        estado_ok=(0,1,2,3,4,5,7,8)\n",
    "        cantidad_ok=0\n",
    "        if estado:\n",
    "            for v_pieza,v_correcto in zip(estado,estado_ok):\n",
    "                if(v_pieza==v_correcto):\n",
    "                    cantidad_ok+=1\n",
    "        return cantidad_ok\n",
    "\n",
    "    def Sucesor(self):\n",
    "        sucesores=[]\n",
    "        s_arriba=self.Mover(\"arriba\")\n",
    "        s_abajo=self.Mover(\"abajo\")\n",
    "        s_der=self.Mover(\"derecha\")\n",
    "        s_izq=self.Mover(\"izquierda\") \n",
    "        sucesores.append(Nodo(s_arriba,self,\"arriba,\",self.nroPiezasCorrectas(s_arriba),self.profundidad)) \n",
    "        sucesores.append(Nodo(s_abajo,self,\"abajo,\",self.nroPiezasCorrectas(s_abajo),self.profundidad)) \n",
    "        sucesores.append(Nodo(s_der,self,\"derecha,\",self.nroPiezasCorrectas(s_der),self.profundidad)) \n",
    "        sucesores.append(Nodo(s_izq,self,\"izquierda,\",self.nroPiezasCorrectas(s_izq),self.profundidad)) \n",
    "        sucesores=[nodo for nodo in sucesores if nodo.estado !=None]\n",
    "        return sucesores\n",
    "    def Objetivo(self):\n",
    "        if self.nroPiezasCorrectas(self.estado)==8:\n",
    "            return True\n",
    "        else:\n",
    "            return False\n",
    "    def Calcula_Camino(self):\n",
    "        Camino=[]\n",
    "        nodo_actual=self\n",
    "        while(nodo_actual.profundidad>=1):\n",
    "            Camino.append(nodo_actual)\n",
    "            nodo_actual=nodo_actual.padre\n",
    "        Camino.reverse\n",
    "        return Camino\n",
    "    def PrimeroProfundidad(self,inicial):\n",
    "        visitados=set()\n",
    "        frontera=deque()\n",
    "        frontera.append(Nodo(inicial,None,None,self.nroPiezasCorrectas(inicial),0))\n",
    "        while(frontera):\n",
    "            nodo_actual=frontera.popleft()\n",
    "            if nodo_actual.estado not in visitados:\n",
    "                visitados.add(nodo_actual.estado)\n",
    "            else:\n",
    "                continue\n",
    "            if self.Objetivo():\n",
    "                print(\"Se encontro la meta\")\n",
    "                return nodo_actual.Calcula_Camino()\n",
    "            else:\n",
    "                frontera.extend(nodo_actual.Sucesor())"
   ]
  },
  {
   "cell_type": "code",
   "execution_count": 54,
   "metadata": {},
   "outputs": [
    {
     "ename": "TypeError",
     "evalue": "unhashable type: 'list'",
     "output_type": "error",
     "traceback": [
      "\u001b[1;31m---------------------------------------------------------------------------\u001b[0m",
      "\u001b[1;31mTypeError\u001b[0m                                 Traceback (most recent call last)",
      "\u001b[1;32mc:\\Users\\Sebas\\Documents\\Universidad\\IA\\Practicas\\Puzle8.ipynb Cell 3'\u001b[0m in \u001b[0;36m<cell line: 4>\u001b[1;34m()\u001b[0m\n\u001b[0;32m      <a href='vscode-notebook-cell:/c%3A/Users/Sebas/Documents/Universidad/IA/Practicas/Puzle8.ipynb#ch0000002?line=1'>2</a>\u001b[0m estado_objetivo\u001b[39m=\u001b[39m(\u001b[39m0\u001b[39m,\u001b[39m1\u001b[39m,\u001b[39m2\u001b[39m,\u001b[39m3\u001b[39m,\u001b[39m4\u001b[39m,\u001b[39m5\u001b[39m,\u001b[39m7\u001b[39m,\u001b[39m8\u001b[39m)\n\u001b[0;32m      <a href='vscode-notebook-cell:/c%3A/Users/Sebas/Documents/Universidad/IA/Practicas/Puzle8.ipynb#ch0000002?line=2'>3</a>\u001b[0m App\u001b[39m=\u001b[39mNodo(estado_inicial,\u001b[39mNone\u001b[39;00m,\u001b[39m\"\u001b[39m\u001b[39m\"\u001b[39m,\u001b[39m0\u001b[39m,\u001b[39m0\u001b[39m)\n\u001b[1;32m----> <a href='vscode-notebook-cell:/c%3A/Users/Sebas/Documents/Universidad/IA/Practicas/Puzle8.ipynb#ch0000002?line=3'>4</a>\u001b[0m Camino\u001b[39m=\u001b[39mApp\u001b[39m.\u001b[39;49mPrimeroProfundidad(estado_inicial,estado_objetivo)\n",
      "\u001b[1;32mc:\\Users\\Sebas\\Documents\\Universidad\\IA\\Practicas\\Puzle8.ipynb Cell 2'\u001b[0m in \u001b[0;36mNodo.PrimeroProfundidad\u001b[1;34m(self, inicial, final)\u001b[0m\n\u001b[0;32m     <a href='vscode-notebook-cell:/c%3A/Users/Sebas/Documents/Universidad/IA/Practicas/Puzle8.ipynb#ch0000001?line=86'>87</a>\u001b[0m \u001b[39mwhile\u001b[39;00m(frontera):\n\u001b[0;32m     <a href='vscode-notebook-cell:/c%3A/Users/Sebas/Documents/Universidad/IA/Practicas/Puzle8.ipynb#ch0000001?line=87'>88</a>\u001b[0m     nodo_actual\u001b[39m=\u001b[39mfrontera\u001b[39m.\u001b[39mpopleft()\n\u001b[1;32m---> <a href='vscode-notebook-cell:/c%3A/Users/Sebas/Documents/Universidad/IA/Practicas/Puzle8.ipynb#ch0000001?line=88'>89</a>\u001b[0m     \u001b[39mif\u001b[39;00m nodo_actual\u001b[39m.\u001b[39;49mestado \u001b[39mnot\u001b[39;49;00m \u001b[39min\u001b[39;49;00m visitados:\n\u001b[0;32m     <a href='vscode-notebook-cell:/c%3A/Users/Sebas/Documents/Universidad/IA/Practicas/Puzle8.ipynb#ch0000001?line=89'>90</a>\u001b[0m         visitados\u001b[39m.\u001b[39madd(nodo_actual\u001b[39m.\u001b[39mestado)\n\u001b[0;32m     <a href='vscode-notebook-cell:/c%3A/Users/Sebas/Documents/Universidad/IA/Practicas/Puzle8.ipynb#ch0000001?line=90'>91</a>\u001b[0m     \u001b[39melse\u001b[39;00m:\n",
      "\u001b[1;31mTypeError\u001b[0m: unhashable type: 'list'"
     ]
    }
   ],
   "source": [
    "estado_inicial=(1,0,2,3,4,5,7,8)\n",
    "estado_objetivo=(0,1,2,3,4,5,7,8)\n",
    "App=Nodo(estado_inicial,None,\"\",0,0)\n",
    "Camino=App.PrimeroProfundidad(estado_inicial)\n"
   ]
  }
 ],
 "metadata": {
  "interpreter": {
   "hash": "221088bc405a8ad596b72a81c8e132fea2c8e3828e2da0839505f0461504a78e"
  },
  "kernelspec": {
   "display_name": "Python 3.10.4 64-bit",
   "language": "python",
   "name": "python3"
  },
  "language_info": {
   "codemirror_mode": {
    "name": "ipython",
    "version": 3
   },
   "file_extension": ".py",
   "mimetype": "text/x-python",
   "name": "python",
   "nbconvert_exporter": "python",
   "pygments_lexer": "ipython3",
   "version": "3.10.4"
  },
  "orig_nbformat": 4
 },
 "nbformat": 4,
 "nbformat_minor": 2
}
